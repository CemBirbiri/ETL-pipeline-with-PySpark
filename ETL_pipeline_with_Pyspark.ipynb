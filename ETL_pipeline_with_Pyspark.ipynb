{
  "nbformat": 4,
  "nbformat_minor": 0,
  "metadata": {
    "colab": {
      "provenance": []
    },
    "kernelspec": {
      "name": "python3",
      "display_name": "Python 3"
    },
    "language_info": {
      "name": "python"
    }
  },
  "cells": [
    {
      "cell_type": "code",
      "source": [
        "!jupyter nbconvert --to html minimum_cost_flow_example.ipynb"
      ],
      "metadata": {
        "colab": {
          "base_uri": "https://localhost:8080/"
        },
        "id": "DLeGB2S6LC0d",
        "outputId": "9415c382-7620-41ca-af13-8c582751a024"
      },
      "execution_count": null,
      "outputs": [
        {
          "output_type": "stream",
          "name": "stdout",
          "text": [
            "[NbConvertApp] Converting notebook minimum_cost_flow_example.ipynb to html\n",
            "[NbConvertApp] Writing 2437782 bytes to minimum_cost_flow_example.html\n"
          ]
        }
      ]
    },
    {
      "cell_type": "markdown",
      "source": [
        "#PySpark example project"
      ],
      "metadata": {
        "id": "Zhg-tlwTD7aN"
      }
    },
    {
      "cell_type": "markdown",
      "source": [
        "Install some libraries to use them in Google Colab"
      ],
      "metadata": {
        "id": "bcGTtAbQeLAq"
      }
    },
    {
      "cell_type": "code",
      "source": [
        "# install java\n",
        "!apt-get install openjdk-8-jdk-headless -qq > /dev/null\n",
        "# install spark (change the version number if needed)\n",
        "!wget -q https://archive.apache.org/dist/spark/spark-3.0.0/spark-3.0.0-bin-hadoop3.2.tgz\n",
        "# unzip the spark file to the current folder\n",
        "!tar xf spark-3.0.0-bin-hadoop3.2.tgz\n"
      ],
      "metadata": {
        "id": "m3RXjEXqNGCP"
      },
      "execution_count": null,
      "outputs": []
    },
    {
      "cell_type": "code",
      "source": [
        "# set your spark folder to your system path environment.\n",
        "import os\n",
        "os.environ[\"JAVA_HOME\"] = \"/usr/lib/jvm/java-8-openjdk-amd64\"\n",
        "os.environ[\"SPARK_HOME\"] = \"/content/spark-3.0.0-bin-hadoop3.2\"\n"
      ],
      "metadata": {
        "id": "gLRFFNCGNoLh"
      },
      "execution_count": null,
      "outputs": []
    },
    {
      "cell_type": "code",
      "source": [
        "# install findspark using pip\n",
        "!pip install -q findspark\n",
        "!pip install pyspark\n"
      ],
      "metadata": {
        "id": "UgxYPBtKNgLR",
        "colab": {
          "base_uri": "https://localhost:8080/"
        },
        "outputId": "538ea63b-8b80-4554-a872-88ba585b4bf2"
      },
      "execution_count": null,
      "outputs": [
        {
          "output_type": "stream",
          "name": "stdout",
          "text": [
            "Requirement already satisfied: pyspark in /usr/local/lib/python3.10/dist-packages (3.4.1)\n",
            "Requirement already satisfied: py4j==0.10.9.7 in /usr/local/lib/python3.10/dist-packages (from pyspark) (0.10.9.7)\n"
          ]
        }
      ]
    },
    {
      "cell_type": "code",
      "source": [
        "#We need to locate Spark in the system. For that, we import findspark and use the findspark.init() method.\n",
        "import findspark\n",
        "findspark.init()"
      ],
      "metadata": {
        "id": "8Pp0sQZYNs8G"
      },
      "execution_count": null,
      "outputs": []
    },
    {
      "cell_type": "code",
      "source": [
        "#You can give a name to the session using appName() and add some configurations with config() if you wish.\n",
        "\n",
        "from pyspark.sql import SparkSession\n",
        "\n",
        "spark = SparkSession.builder\\\n",
        "        .master(\"local\")\\\n",
        "        .appName(\"Colab\")\\\n",
        "        .config('spark.ui.port', '4056')\\\n",
        "        .getOrCreate()"
      ],
      "metadata": {
        "id": "1bwp1525Pld1"
      },
      "execution_count": null,
      "outputs": []
    },
    {
      "cell_type": "code",
      "source": [
        "#Finally, print the SparkSession variable.\n",
        "spark"
      ],
      "metadata": {
        "id": "gt1RaxpdPrmB",
        "colab": {
          "base_uri": "https://localhost:8080/",
          "height": 219
        },
        "outputId": "b37adc4f-4411-4647-9cc1-c9bb99b22104"
      },
      "execution_count": null,
      "outputs": [
        {
          "output_type": "execute_result",
          "data": {
            "text/plain": [
              "<pyspark.sql.session.SparkSession at 0x7f41596be980>"
            ],
            "text/html": [
              "\n",
              "            <div>\n",
              "                <p><b>SparkSession - in-memory</b></p>\n",
              "                \n",
              "        <div>\n",
              "            <p><b>SparkContext</b></p>\n",
              "\n",
              "            <p><a href=\"http://db4f6320a884:4056\">Spark UI</a></p>\n",
              "\n",
              "            <dl>\n",
              "              <dt>Version</dt>\n",
              "                <dd><code>v3.0.0</code></dd>\n",
              "              <dt>Master</dt>\n",
              "                <dd><code>local</code></dd>\n",
              "              <dt>AppName</dt>\n",
              "                <dd><code>Colab</code></dd>\n",
              "            </dl>\n",
              "        </div>\n",
              "        \n",
              "            </div>\n",
              "        "
            ]
          },
          "metadata": {},
          "execution_count": 14
        }
      ]
    },
    {
      "cell_type": "markdown",
      "source": [
        "#PROJECT\n"
      ],
      "metadata": {
        "id": "0nS1HjDYP-kF"
      }
    },
    {
      "cell_type": "markdown",
      "source": [
        "- Name: Ufuk Cem Birbiri\n",
        "- email: uccbirbiri@gmail.com"
      ],
      "metadata": {
        "id": "2-X1RmYwKzug"
      }
    },
    {
      "cell_type": "markdown",
      "source": [
        "This project consist of two parts.\n",
        "\n",
        "- A. Data Exploration with PySpark\n",
        "- B. PIPELINE\n",
        "\n",
        "In (A), we will discover the dataset. We will do the followings:\n",
        "\n",
        "1.   Change column types (Example: from string to numeric)\n",
        "2.   Drop rows in the target column if the value is 'null'. We do this because if we don't know the target value, we cannot use it in classification.\n",
        "3.   Handle the missing values:\n",
        "\n",
        "*   NA's in numerical columns will be converted to 'mean' value\n",
        "*   NA's in string columns will be converted to 'Unknown'\n",
        "\n",
        "4. Drop some columns according to necessity and correlation metrix and heatmap\n",
        "\n",
        "\n",
        "In (B), I created a pipeline. This pipeline includes all of the steps in (A) and also ML model and final results. The raw/unprocessed data will be given to pipeline and these steps in (A) is done with custom functions that I created. You will just read the csv file and split it as test and train data, then give it to pipeline. All the preprocessing, data manipulation and classification is done in the pipeline. At the end, you can get the results of classification.\n",
        "\n",
        "\n",
        "Question:\n",
        "\n",
        "Data Exploration is done in pipeline, so why do have an extra part for data exploration?\n",
        "- Because we need to analyse the data first. Learn about it and implement code to preprocess it. Then, I added all the exploration codes to the pipeline easily.  \n",
        "\n",
        "\n",
        "\n",
        "\n",
        "\n"
      ],
      "metadata": {
        "id": "-fLKlxdHQDtz"
      }
    },
    {
      "cell_type": "markdown",
      "source": [
        "#A. Data Exploration with PySpark"
      ],
      "metadata": {
        "id": "VBvUNWlYQJ7C"
      }
    },
    {
      "cell_type": "markdown",
      "source": [
        "Read the data"
      ],
      "metadata": {
        "id": "Gle9K8KacH8w"
      }
    },
    {
      "cell_type": "code",
      "source": [
        "#The dataset can be found in the following url:\n",
        "#https://www.kaggle.com/jsphyg/weather-dataset-rattle-package\n",
        "#\n",
        "#Change the path for your computer.\n",
        "df = spark.read.csv(\"/content/weatherAUS.csv\", header=True, inferSchema=True)"
      ],
      "metadata": {
        "id": "QflNSaHoP-zK"
      },
      "execution_count": null,
      "outputs": []
    },
    {
      "cell_type": "markdown",
      "source": [
        "See the column names and types"
      ],
      "metadata": {
        "id": "gwpXquc2cOlD"
      }
    },
    {
      "cell_type": "code",
      "source": [
        "df.printSchema()"
      ],
      "metadata": {
        "id": "0WGfhNZSQFh4",
        "colab": {
          "base_uri": "https://localhost:8080/"
        },
        "outputId": "6e91e913-71a0-4df0-8662-fab02520bf35"
      },
      "execution_count": null,
      "outputs": [
        {
          "output_type": "stream",
          "name": "stdout",
          "text": [
            "root\n",
            " |-- Date: string (nullable = true)\n",
            " |-- Location: string (nullable = true)\n",
            " |-- MinTemp: string (nullable = true)\n",
            " |-- MaxTemp: string (nullable = true)\n",
            " |-- Rainfall: string (nullable = true)\n",
            " |-- Evaporation: string (nullable = true)\n",
            " |-- Sunshine: string (nullable = true)\n",
            " |-- WindGustDir: string (nullable = true)\n",
            " |-- WindGustSpeed: string (nullable = true)\n",
            " |-- WindDir9am: string (nullable = true)\n",
            " |-- WindDir3pm: string (nullable = true)\n",
            " |-- WindSpeed9am: string (nullable = true)\n",
            " |-- WindSpeed3pm: string (nullable = true)\n",
            " |-- Humidity9am: string (nullable = true)\n",
            " |-- Humidity3pm: string (nullable = true)\n",
            " |-- Pressure9am: string (nullable = true)\n",
            " |-- Pressure3pm: string (nullable = true)\n",
            " |-- Cloud9am: string (nullable = true)\n",
            " |-- Cloud3pm: string (nullable = true)\n",
            " |-- Temp9am: string (nullable = true)\n",
            " |-- Temp3pm: string (nullable = true)\n",
            " |-- RainToday: string (nullable = true)\n",
            " |-- RainTomorrow: string (nullable = true)\n",
            "\n"
          ]
        }
      ]
    },
    {
      "cell_type": "markdown",
      "source": [
        "Display the first 5 rows"
      ],
      "metadata": {
        "id": "t7ROZmuvcSl7"
      }
    },
    {
      "cell_type": "code",
      "source": [
        "df.show(5)"
      ],
      "metadata": {
        "id": "RQc8PGZZQPMf",
        "colab": {
          "base_uri": "https://localhost:8080/"
        },
        "outputId": "b49e2ee6-4226-4116-d45b-ac0762ce323f"
      },
      "execution_count": null,
      "outputs": [
        {
          "output_type": "stream",
          "name": "stdout",
          "text": [
            "+----------+--------+-------+-------+--------+-----------+--------+-----------+-------------+----------+----------+------------+------------+-----------+-----------+-----------+-----------+--------+--------+-------+-------+---------+------------+\n",
            "|      Date|Location|MinTemp|MaxTemp|Rainfall|Evaporation|Sunshine|WindGustDir|WindGustSpeed|WindDir9am|WindDir3pm|WindSpeed9am|WindSpeed3pm|Humidity9am|Humidity3pm|Pressure9am|Pressure3pm|Cloud9am|Cloud3pm|Temp9am|Temp3pm|RainToday|RainTomorrow|\n",
            "+----------+--------+-------+-------+--------+-----------+--------+-----------+-------------+----------+----------+------------+------------+-----------+-----------+-----------+-----------+--------+--------+-------+-------+---------+------------+\n",
            "|2008-12-01|  Albury|   13.4|   22.9|     0.6|         NA|      NA|          W|           44|         W|       WNW|          20|          24|         71|         22|     1007.7|     1007.1|       8|      NA|   16.9|   21.8|       No|          No|\n",
            "|2008-12-02|  Albury|    7.4|   25.1|       0|         NA|      NA|        WNW|           44|       NNW|       WSW|           4|          22|         44|         25|     1010.6|     1007.8|      NA|      NA|   17.2|   24.3|       No|          No|\n",
            "|2008-12-03|  Albury|   12.9|   25.7|       0|         NA|      NA|        WSW|           46|         W|       WSW|          19|          26|         38|         30|     1007.6|     1008.7|      NA|       2|     21|   23.2|       No|          No|\n",
            "|2008-12-04|  Albury|    9.2|     28|       0|         NA|      NA|         NE|           24|        SE|         E|          11|           9|         45|         16|     1017.6|     1012.8|      NA|      NA|   18.1|   26.5|       No|          No|\n",
            "|2008-12-05|  Albury|   17.5|   32.3|       1|         NA|      NA|          W|           41|       ENE|        NW|           7|          20|         82|         33|     1010.8|       1006|       7|       8|   17.8|   29.7|       No|          No|\n",
            "+----------+--------+-------+-------+--------+-----------+--------+-----------+-------------+----------+----------+------------+------------+-----------+-----------+-----------+-----------+--------+--------+-------+-------+---------+------------+\n",
            "only showing top 5 rows\n",
            "\n"
          ]
        }
      ]
    },
    {
      "cell_type": "markdown",
      "source": [
        "Column types seem as string. Convert column types to float"
      ],
      "metadata": {
        "id": "8tL-tHD5j6B5"
      }
    },
    {
      "cell_type": "code",
      "source": [
        "from pyspark.sql.types import FloatType\n",
        "from pyspark.sql.functions import col\n",
        "\n",
        "df= df.withColumn(\"MinTemp\",col(\"MinTemp\").cast(FloatType()))\n",
        "df= df.withColumn(\"MaxTemp\",col(\"MaxTemp\").cast(FloatType()))\n",
        "df= df.withColumn(\"Rainfall\",col(\"Rainfall\").cast(FloatType()))\n",
        "df= df.withColumn(\"Evaporation\",col(\"Evaporation\").cast(FloatType()))\n",
        "df= df.withColumn(\"Sunshine\",col(\"Sunshine\").cast(FloatType()))\n",
        "df= df.withColumn(\"WindGustSpeed\",col(\"WindGustSpeed\").cast(FloatType()))\n",
        "df= df.withColumn(\"WindSpeed9am\",col(\"WindSpeed9am\").cast(FloatType()))\n",
        "df= df.withColumn(\"WindSpeed3pm\",col(\"WindSpeed3pm\").cast(FloatType()))\n",
        "df= df.withColumn(\"Humidity9am\",col(\"Humidity9am\").cast(FloatType()))\n",
        "df= df.withColumn(\"Humidity3pm\",col(\"Humidity3pm\").cast(FloatType()))\n",
        "\n",
        "df= df.withColumn(\"Pressure9am\",col(\"Pressure9am\").cast(FloatType()))\n",
        "df= df.withColumn(\"Pressure3pm\",col(\"Pressure3pm\").cast(FloatType()))\n",
        "df= df.withColumn(\"Cloud9am\",col(\"Cloud9am\").cast(FloatType()))\n",
        "df= df.withColumn(\"Cloud3pm\",col(\"Cloud3pm\").cast(FloatType()))\n",
        "\n",
        "df= df.withColumn(\"Temp9am\",col(\"Temp9am\").cast(FloatType()))\n",
        "df= df.withColumn(\"Temp3pm\",col(\"Temp3pm\").cast(FloatType()))\n"
      ],
      "metadata": {
        "id": "-D9FiUANUZav"
      },
      "execution_count": null,
      "outputs": []
    },
    {
      "cell_type": "markdown",
      "source": [
        "How many rows are there in the dataset?"
      ],
      "metadata": {
        "id": "Kfq-7YGodKFy"
      }
    },
    {
      "cell_type": "code",
      "source": [
        "#Number of rows:\n",
        "df.count()"
      ],
      "metadata": {
        "id": "BFPDcQubQYZj",
        "colab": {
          "base_uri": "https://localhost:8080/"
        },
        "outputId": "7a8c7bf9-ebaa-4103-85c5-30209992c797"
      },
      "execution_count": null,
      "outputs": [
        {
          "output_type": "execute_result",
          "data": {
            "text/plain": [
              "10811"
            ]
          },
          "metadata": {},
          "execution_count": 20
        }
      ]
    },
    {
      "cell_type": "markdown",
      "source": [
        "##Handling NA values"
      ],
      "metadata": {
        "id": "iV-K9u0NlcTO"
      }
    },
    {
      "cell_type": "markdown",
      "source": [
        "For float-type columns, replace NAs with mean value:"
      ],
      "metadata": {
        "id": "2m950qFPllyn"
      }
    },
    {
      "cell_type": "code",
      "source": [
        "import pyspark.sql.functions as F\n",
        "import numpy as np\n",
        "from pyspark.ml.feature import Imputer\n",
        "\n",
        "#Float type columns are:\n",
        "numerical_cols = [df.dtypes[i][0] for i in range(len(df.dtypes)) if df.dtypes[i][1]=='float']\n",
        "\n",
        "#Use imputer to replace NULL's to mean values:\n",
        "imputer = Imputer(\n",
        "    inputCols=numerical_cols,\n",
        "    outputCols=numerical_cols\n",
        "    ).setStrategy(\"mean\")\n",
        "\n",
        "# Add imputation cols to df\n",
        "df = imputer.fit(df).transform(df)"
      ],
      "metadata": {
        "id": "a1FijwF4lxZr"
      },
      "execution_count": null,
      "outputs": []
    },
    {
      "cell_type": "code",
      "source": [
        "df.show(5)"
      ],
      "metadata": {
        "id": "aQrIelTJlwhL",
        "colab": {
          "base_uri": "https://localhost:8080/"
        },
        "outputId": "5f5e08fe-7ba3-45f6-fec2-befc78d84f31"
      },
      "execution_count": null,
      "outputs": [
        {
          "output_type": "stream",
          "name": "stdout",
          "text": [
            "+----------+--------+-------+-------+--------+-----------+---------+-----------+-------------+----------+----------+------------+------------+-----------+-----------+-----------+-----------+--------+--------+-------+-------+---------+------------+\n",
            "|      Date|Location|MinTemp|MaxTemp|Rainfall|Evaporation| Sunshine|WindGustDir|WindGustSpeed|WindDir9am|WindDir3pm|WindSpeed9am|WindSpeed3pm|Humidity9am|Humidity3pm|Pressure9am|Pressure3pm|Cloud9am|Cloud3pm|Temp9am|Temp3pm|RainToday|RainTomorrow|\n",
            "+----------+--------+-------+-------+--------+-----------+---------+-----------+-------------+----------+----------+------------+------------+-----------+-----------+-----------+-----------+--------+--------+-------+-------+---------+------------+\n",
            "|2008-12-01|  Albury|   13.4|   22.9|     0.6|  5.4682317|7.6111774|          W|         44.0|         W|       WNW|        20.0|        24.0|       71.0|       22.0|     1007.7|     1007.1|     8.0| 4.50993|   16.9|   21.8|       No|          No|\n",
            "|2008-12-02|  Albury|    7.4|   25.1|     0.0|  5.4682317|7.6111774|        WNW|         44.0|       NNW|       WSW|         4.0|        22.0|       44.0|       25.0|     1010.6|     1007.8|4.447461| 4.50993|   17.2|   24.3|       No|          No|\n",
            "|2008-12-03|  Albury|   12.9|   25.7|     0.0|  5.4682317|7.6111774|        WSW|         46.0|         W|       WSW|        19.0|        26.0|       38.0|       30.0|     1007.6|     1008.7|4.447461|     2.0|   21.0|   23.2|       No|          No|\n",
            "|2008-12-04|  Albury|    9.2|   28.0|     0.0|  5.4682317|7.6111774|         NE|         24.0|        SE|         E|        11.0|         9.0|       45.0|       16.0|     1017.6|     1012.8|4.447461| 4.50993|   18.1|   26.5|       No|          No|\n",
            "|2008-12-05|  Albury|   17.5|   32.3|     1.0|  5.4682317|7.6111774|          W|         41.0|       ENE|        NW|         7.0|        20.0|       82.0|       33.0|     1010.8|     1006.0|     7.0|     8.0|   17.8|   29.7|       No|          No|\n",
            "+----------+--------+-------+-------+--------+-----------+---------+-----------+-------------+----------+----------+------------+------------+-----------+-----------+-----------+-----------+--------+--------+-------+-------+---------+------------+\n",
            "only showing top 5 rows\n",
            "\n"
          ]
        }
      ]
    },
    {
      "cell_type": "markdown",
      "source": [
        "\n",
        "Replace 'NA' in string-type columns with \"Unknown\". Firstly, we will convert NA to null, then null to \"Unknown\"."
      ],
      "metadata": {
        "id": "CwDe8UxqoBGB"
      }
    },
    {
      "cell_type": "code",
      "source": [
        "from pyspark.sql.functions import when, lit, col\n",
        "\n",
        "#Define string-type columns:\n",
        "string_cols = [df.dtypes[i][0] for i in range(len(df.dtypes)) if df.dtypes[i][1]=='string']\n",
        "\n",
        "#For each string-type column replace 'NA' with null\n",
        "for cols in string_cols:\n",
        "  df=df.withColumn(cols, when(col(cols) != \"NA\", col(cols)).otherwise(lit(None)))\n",
        "df.show(15)"
      ],
      "metadata": {
        "id": "5Eum4hBPn1Eg",
        "colab": {
          "base_uri": "https://localhost:8080/"
        },
        "outputId": "bf594326-4634-4235-c426-eda20c9c5dcf"
      },
      "execution_count": null,
      "outputs": [
        {
          "output_type": "stream",
          "name": "stdout",
          "text": [
            "+----------+--------+-------+-------+--------+-----------+---------+-----------+-------------+----------+----------+------------+------------+-----------+-----------+-----------+-----------+--------+--------+-------+-------+---------+------------+\n",
            "|      Date|Location|MinTemp|MaxTemp|Rainfall|Evaporation| Sunshine|WindGustDir|WindGustSpeed|WindDir9am|WindDir3pm|WindSpeed9am|WindSpeed3pm|Humidity9am|Humidity3pm|Pressure9am|Pressure3pm|Cloud9am|Cloud3pm|Temp9am|Temp3pm|RainToday|RainTomorrow|\n",
            "+----------+--------+-------+-------+--------+-----------+---------+-----------+-------------+----------+----------+------------+------------+-----------+-----------+-----------+-----------+--------+--------+-------+-------+---------+------------+\n",
            "|2008-12-01|  Albury|   13.4|   22.9|     0.6|  5.4682317|7.6111774|          W|         44.0|         W|       WNW|        20.0|        24.0|       71.0|       22.0|     1007.7|     1007.1|     8.0| 4.50993|   16.9|   21.8|       No|          No|\n",
            "|2008-12-02|  Albury|    7.4|   25.1|     0.0|  5.4682317|7.6111774|        WNW|         44.0|       NNW|       WSW|         4.0|        22.0|       44.0|       25.0|     1010.6|     1007.8|4.447461| 4.50993|   17.2|   24.3|       No|          No|\n",
            "|2008-12-03|  Albury|   12.9|   25.7|     0.0|  5.4682317|7.6111774|        WSW|         46.0|         W|       WSW|        19.0|        26.0|       38.0|       30.0|     1007.6|     1008.7|4.447461|     2.0|   21.0|   23.2|       No|          No|\n",
            "|2008-12-04|  Albury|    9.2|   28.0|     0.0|  5.4682317|7.6111774|         NE|         24.0|        SE|         E|        11.0|         9.0|       45.0|       16.0|     1017.6|     1012.8|4.447461| 4.50993|   18.1|   26.5|       No|          No|\n",
            "|2008-12-05|  Albury|   17.5|   32.3|     1.0|  5.4682317|7.6111774|          W|         41.0|       ENE|        NW|         7.0|        20.0|       82.0|       33.0|     1010.8|     1006.0|     7.0|     8.0|   17.8|   29.7|       No|          No|\n",
            "|2008-12-06|  Albury|   14.6|   29.7|     0.2|  5.4682317|7.6111774|        WNW|         56.0|         W|         W|        19.0|        24.0|       55.0|       23.0|     1009.2|     1005.4|4.447461| 4.50993|   20.6|   28.9|       No|          No|\n",
            "|2008-12-07|  Albury|   14.3|   25.0|     0.0|  5.4682317|7.6111774|          W|         50.0|        SW|         W|        20.0|        24.0|       49.0|       19.0|     1009.6|     1008.2|     1.0| 4.50993|   18.1|   24.6|       No|          No|\n",
            "|2008-12-08|  Albury|    7.7|   26.7|     0.0|  5.4682317|7.6111774|          W|         35.0|       SSE|         W|         6.0|        17.0|       48.0|       19.0|     1013.4|     1010.1|4.447461| 4.50993|   16.3|   25.5|       No|          No|\n",
            "|2008-12-09|  Albury|    9.7|   31.9|     0.0|  5.4682317|7.6111774|        NNW|         80.0|        SE|        NW|         7.0|        28.0|       42.0|        9.0|     1008.9|     1003.6|4.447461| 4.50993|   18.3|   30.2|       No|         Yes|\n",
            "|2008-12-10|  Albury|   13.1|   30.1|     1.4|  5.4682317|7.6111774|          W|         28.0|         S|       SSE|        15.0|        11.0|       58.0|       27.0|     1007.0|     1005.7|4.447461| 4.50993|   20.1|   28.2|      Yes|          No|\n",
            "|2008-12-11|  Albury|   13.4|   30.4|     0.0|  5.4682317|7.6111774|          N|         30.0|       SSE|       ESE|        17.0|         6.0|       48.0|       22.0|     1011.8|     1008.7|4.447461| 4.50993|   20.4|   28.8|       No|         Yes|\n",
            "|2008-12-12|  Albury|   15.9|   21.7|     2.2|  5.4682317|7.6111774|        NNE|         31.0|        NE|       ENE|        15.0|        13.0|       89.0|       91.0|     1010.5|     1004.2|     8.0|     8.0|   15.9|   17.0|      Yes|         Yes|\n",
            "|2008-12-13|  Albury|   15.9|   18.6|    15.6|  5.4682317|7.6111774|          W|         61.0|       NNW|       NNW|        28.0|        28.0|       76.0|       93.0|      994.3|      993.0|     8.0|     8.0|   17.4|   15.8|      Yes|         Yes|\n",
            "|2008-12-14|  Albury|   12.6|   21.0|     3.6|  5.4682317|7.6111774|         SW|         44.0|         W|       SSW|        24.0|        20.0|       65.0|       43.0|     1001.2|     1001.8|4.447461|     7.0|   15.8|   19.8|      Yes|          No|\n",
            "|2008-12-15|  Albury|    8.4|   24.6|     0.0|  5.4682317|7.6111774|       null|     40.03523|         S|       WNW|         4.0|        30.0|       57.0|       32.0|     1009.7|     1008.7|4.447461| 4.50993|   15.9|   23.5|       No|        null|\n",
            "+----------+--------+-------+-------+--------+-----------+---------+-----------+-------------+----------+----------+------------+------------+-----------+-----------+-----------+-----------+--------+--------+-------+-------+---------+------------+\n",
            "only showing top 15 rows\n",
            "\n"
          ]
        }
      ]
    },
    {
      "cell_type": "code",
      "source": [
        "#Let's check if there is null values in the target column('RainTomorrow'), if yes remove them\n",
        "df.where(df[\"RainTomorrow\"].isNull()).select(\"RainTomorrow\").count()\n"
      ],
      "metadata": {
        "colab": {
          "base_uri": "https://localhost:8080/"
        },
        "id": "yHl114wmoxdf",
        "outputId": "2db6d3c8-30ff-4a6b-c392-876fb78b6328"
      },
      "execution_count": null,
      "outputs": [
        {
          "output_type": "execute_result",
          "data": {
            "text/plain": [
              "0"
            ]
          },
          "metadata": {},
          "execution_count": 35
        }
      ]
    },
    {
      "cell_type": "code",
      "source": [
        "#Drop the null values in target column:\n",
        "df=df.na.drop(subset=[\"RainTomorrow\"])"
      ],
      "metadata": {
        "id": "hvAgvz2egT4s"
      },
      "execution_count": null,
      "outputs": []
    },
    {
      "cell_type": "markdown",
      "source": [
        "##Replace Null to 'Unknown'"
      ],
      "metadata": {
        "id": "Lt6O6RRZ0GXW"
      }
    },
    {
      "cell_type": "code",
      "source": [
        "df=df.fillna(value = \"Unknown\")\n",
        "df.show(15)"
      ],
      "metadata": {
        "id": "DhnLkjX4uuky",
        "colab": {
          "base_uri": "https://localhost:8080/"
        },
        "outputId": "0f1c1f27-3b1a-4be2-e274-6db31f8bd6c9"
      },
      "execution_count": null,
      "outputs": [
        {
          "output_type": "stream",
          "name": "stdout",
          "text": [
            "+----------+--------+-------+-------+--------+-----------+---------+-----------+-------------+----------+----------+------------+------------+-----------+-----------+-----------+-----------+--------+--------+-------+-------+---------+------------+\n",
            "|      Date|Location|MinTemp|MaxTemp|Rainfall|Evaporation| Sunshine|WindGustDir|WindGustSpeed|WindDir9am|WindDir3pm|WindSpeed9am|WindSpeed3pm|Humidity9am|Humidity3pm|Pressure9am|Pressure3pm|Cloud9am|Cloud3pm|Temp9am|Temp3pm|RainToday|RainTomorrow|\n",
            "+----------+--------+-------+-------+--------+-----------+---------+-----------+-------------+----------+----------+------------+------------+-----------+-----------+-----------+-----------+--------+--------+-------+-------+---------+------------+\n",
            "|2008-12-01|  Albury|   13.4|   22.9|     0.6|  5.4682317|7.6111774|          W|         44.0|         W|       WNW|        20.0|        24.0|       71.0|       22.0|     1007.7|     1007.1|     8.0| 4.50993|   16.9|   21.8|       No|          No|\n",
            "|2008-12-02|  Albury|    7.4|   25.1|     0.0|  5.4682317|7.6111774|        WNW|         44.0|       NNW|       WSW|         4.0|        22.0|       44.0|       25.0|     1010.6|     1007.8|4.447461| 4.50993|   17.2|   24.3|       No|          No|\n",
            "|2008-12-03|  Albury|   12.9|   25.7|     0.0|  5.4682317|7.6111774|        WSW|         46.0|         W|       WSW|        19.0|        26.0|       38.0|       30.0|     1007.6|     1008.7|4.447461|     2.0|   21.0|   23.2|       No|          No|\n",
            "|2008-12-04|  Albury|    9.2|   28.0|     0.0|  5.4682317|7.6111774|         NE|         24.0|        SE|         E|        11.0|         9.0|       45.0|       16.0|     1017.6|     1012.8|4.447461| 4.50993|   18.1|   26.5|       No|          No|\n",
            "|2008-12-05|  Albury|   17.5|   32.3|     1.0|  5.4682317|7.6111774|          W|         41.0|       ENE|        NW|         7.0|        20.0|       82.0|       33.0|     1010.8|     1006.0|     7.0|     8.0|   17.8|   29.7|       No|          No|\n",
            "|2008-12-06|  Albury|   14.6|   29.7|     0.2|  5.4682317|7.6111774|        WNW|         56.0|         W|         W|        19.0|        24.0|       55.0|       23.0|     1009.2|     1005.4|4.447461| 4.50993|   20.6|   28.9|       No|          No|\n",
            "|2008-12-07|  Albury|   14.3|   25.0|     0.0|  5.4682317|7.6111774|          W|         50.0|        SW|         W|        20.0|        24.0|       49.0|       19.0|     1009.6|     1008.2|     1.0| 4.50993|   18.1|   24.6|       No|          No|\n",
            "|2008-12-08|  Albury|    7.7|   26.7|     0.0|  5.4682317|7.6111774|          W|         35.0|       SSE|         W|         6.0|        17.0|       48.0|       19.0|     1013.4|     1010.1|4.447461| 4.50993|   16.3|   25.5|       No|          No|\n",
            "|2008-12-09|  Albury|    9.7|   31.9|     0.0|  5.4682317|7.6111774|        NNW|         80.0|        SE|        NW|         7.0|        28.0|       42.0|        9.0|     1008.9|     1003.6|4.447461| 4.50993|   18.3|   30.2|       No|         Yes|\n",
            "|2008-12-10|  Albury|   13.1|   30.1|     1.4|  5.4682317|7.6111774|          W|         28.0|         S|       SSE|        15.0|        11.0|       58.0|       27.0|     1007.0|     1005.7|4.447461| 4.50993|   20.1|   28.2|      Yes|          No|\n",
            "|2008-12-11|  Albury|   13.4|   30.4|     0.0|  5.4682317|7.6111774|          N|         30.0|       SSE|       ESE|        17.0|         6.0|       48.0|       22.0|     1011.8|     1008.7|4.447461| 4.50993|   20.4|   28.8|       No|         Yes|\n",
            "|2008-12-12|  Albury|   15.9|   21.7|     2.2|  5.4682317|7.6111774|        NNE|         31.0|        NE|       ENE|        15.0|        13.0|       89.0|       91.0|     1010.5|     1004.2|     8.0|     8.0|   15.9|   17.0|      Yes|         Yes|\n",
            "|2008-12-13|  Albury|   15.9|   18.6|    15.6|  5.4682317|7.6111774|          W|         61.0|       NNW|       NNW|        28.0|        28.0|       76.0|       93.0|      994.3|      993.0|     8.0|     8.0|   17.4|   15.8|      Yes|         Yes|\n",
            "|2008-12-14|  Albury|   12.6|   21.0|     3.6|  5.4682317|7.6111774|         SW|         44.0|         W|       SSW|        24.0|        20.0|       65.0|       43.0|     1001.2|     1001.8|4.447461|     7.0|   15.8|   19.8|      Yes|          No|\n",
            "|2008-12-16|  Albury|    9.8|   27.7|2.360918|  5.4682317|7.6111774|        WNW|         50.0|   Unknown|       WNW|   14.043426|        22.0|       50.0|       28.0|     1013.4|     1010.3|     0.0| 4.50993|   17.3|   26.2|  Unknown|          No|\n",
            "+----------+--------+-------+-------+--------+-----------+---------+-----------+-------------+----------+----------+------------+------------+-----------+-----------+-----------+-----------+--------+--------+-------+-------+---------+------------+\n",
            "only showing top 15 rows\n",
            "\n"
          ]
        }
      ]
    },
    {
      "cell_type": "markdown",
      "source": [
        "##Column Analysis"
      ],
      "metadata": {
        "id": "lhcP12WY0L-n"
      }
    },
    {
      "cell_type": "code",
      "source": [
        "##Map, flatmap, reduce"
      ],
      "metadata": {
        "id": "X4IQCerhrgRl"
      },
      "execution_count": null,
      "outputs": []
    },
    {
      "cell_type": "markdown",
      "source": [
        "Let's investigate some columns separately."
      ],
      "metadata": {
        "id": "SCDiLlNd0Pk7"
      }
    },
    {
      "cell_type": "markdown",
      "source": [
        "See some statistics:"
      ],
      "metadata": {
        "id": "UZDNCcjThTKG"
      }
    },
    {
      "cell_type": "code",
      "source": [
        "#Describing the column statistics\n",
        "df.describe().show()"
      ],
      "metadata": {
        "id": "j0ePRqoIQvLp",
        "colab": {
          "base_uri": "https://localhost:8080/"
        },
        "outputId": "fc0d131e-4c74-4c59-ff8b-d814550bae59"
      },
      "execution_count": null,
      "outputs": [
        {
          "output_type": "stream",
          "name": "stdout",
          "text": [
            "+-------+----------+--------+-----------------+------------------+-----------------+-----------------+------------------+-----------+------------------+----------+----------+------------------+------------------+------------------+------------------+------------------+------------------+------------------+------------------+-----------------+-----------------+---------+------------+\n",
            "|summary|      Date|Location|          MinTemp|           MaxTemp|         Rainfall|      Evaporation|          Sunshine|WindGustDir|     WindGustSpeed|WindDir9am|WindDir3pm|      WindSpeed9am|      WindSpeed3pm|       Humidity9am|       Humidity3pm|       Pressure9am|       Pressure3pm|          Cloud9am|          Cloud3pm|          Temp9am|          Temp3pm|RainToday|RainTomorrow|\n",
            "+-------+----------+--------+-----------------+------------------+-----------------+-----------------+------------------+-----------+------------------+----------+----------+------------------+------------------+------------------+------------------+------------------+------------------+------------------+------------------+-----------------+-----------------+---------+------------+\n",
            "|  count|    142193|  142193|           142193|            142193|           142193|           142193|            142193|     142193|            142193|    142193|    142193|            142193|            142193|            142193|            142193|            142193|            142193|            142193|            142193|           142193|           142193|   142193|      142193|\n",
            "|   mean|      null|    null|12.18643393263682|23.226771878033453|2.350082288947687|5.469142784123774|7.6183307877290565|       null| 39.98761240229919|      null|      null|14.002380832072442|18.638039758230516| 68.84427215399539| 51.48404076445254|1017.6533843969888|1015.2579730183445|  4.44106546565371| 4.505882505188688|16.98752843610802|21.68716125317291|     null|        null|\n",
            "| stddev|      null|    null|6.388923696622259| 7.109554494906891|8.423217040042788|3.168114337676472| 2.734935933869931|       null|13.138390998374001|      null|      null| 8.851082585470932| 8.721551854602462|18.932077169955065|20.532067400231345| 6.746248314804752| 6.681787422633368|2.2780857692385923|2.1047112412189115|6.472165982338926| 6.87077085316047|     null|        null|\n",
            "|    min|2007-11-01|Adelaide|             -8.5|              -4.8|              0.0|              0.0|               0.0|          E|               6.0|         E|         E|               0.0|               0.0|               0.0|               0.0|             980.5|             977.1|               0.0|               0.0|             -7.2|             -5.4|       No|          No|\n",
            "|    max|2017-06-25| Woomera|             33.9|              48.1|            371.0|            145.0|              14.5|        WSW|             135.0|       WSW|       WSW|             130.0|              87.0|             100.0|             100.0|            1041.0|            1039.6|               9.0|               9.0|             40.2|             46.7|      Yes|         Yes|\n",
            "+-------+----------+--------+-----------------+------------------+-----------------+-----------------+------------------+-----------+------------------+----------+----------+------------------+------------------+------------------+------------------+------------------+------------------+------------------+------------------+-----------------+-----------------+---------+------------+\n",
            "\n"
          ]
        }
      ]
    },
    {
      "cell_type": "markdown",
      "source": [
        "##Date Column"
      ],
      "metadata": {
        "id": "uYmpsT2Hi4_E"
      }
    },
    {
      "cell_type": "markdown",
      "source": [
        "Let's see how many distinct values 'Date' cloumn has."
      ],
      "metadata": {
        "id": "jEY9taNCi84w"
      }
    },
    {
      "cell_type": "code",
      "source": [
        "df.select(\"Date\").distinct().count()"
      ],
      "metadata": {
        "id": "8pK0cdAQi658",
        "colab": {
          "base_uri": "https://localhost:8080/"
        },
        "outputId": "db17f675-888e-42af-d806-454937bac51f"
      },
      "execution_count": null,
      "outputs": [
        {
          "output_type": "execute_result",
          "data": {
            "text/plain": [
              "3436"
            ]
          },
          "metadata": {},
          "execution_count": 155
        }
      ]
    },
    {
      "cell_type": "markdown",
      "source": [
        "I think date information is not related to rain situation. For a machine learning algorithm it is not a good feature to know about the date to predict feature rain condition. We aldready have 'RainToday' column in the data frame, which is enough. I prefer to remove this 'Date' column also."
      ],
      "metadata": {
        "id": "gdH8iJF4jMZy"
      }
    },
    {
      "cell_type": "code",
      "source": [
        "df = df.drop('Date')\n",
        "df.show(3)"
      ],
      "metadata": {
        "id": "L0Fjfjuwj4qz",
        "colab": {
          "base_uri": "https://localhost:8080/"
        },
        "outputId": "757a5028-5d09-4930-f730-cd1223c762af"
      },
      "execution_count": null,
      "outputs": [
        {
          "output_type": "stream",
          "name": "stdout",
          "text": [
            "+--------+-------+-------+--------+-----------+---------+-----------+-------------+----------+----------+------------+------------+-----------+-----------+-----------+-----------+--------+--------+-------+-------+---------+------------+\n",
            "|Location|MinTemp|MaxTemp|Rainfall|Evaporation| Sunshine|WindGustDir|WindGustSpeed|WindDir9am|WindDir3pm|WindSpeed9am|WindSpeed3pm|Humidity9am|Humidity3pm|Pressure9am|Pressure3pm|Cloud9am|Cloud3pm|Temp9am|Temp3pm|RainToday|RainTomorrow|\n",
            "+--------+-------+-------+--------+-----------+---------+-----------+-------------+----------+----------+------------+------------+-----------+-----------+-----------+-----------+--------+--------+-------+-------+---------+------------+\n",
            "|  Albury|   13.4|   22.9|     0.6|  5.4682317|7.6111774|          W|         44.0|         W|       WNW|        20.0|        24.0|       71.0|       22.0|     1007.7|     1007.1|     8.0| 4.50993|   16.9|   21.8|       No|          No|\n",
            "|  Albury|    7.4|   25.1|     0.0|  5.4682317|7.6111774|        WNW|         44.0|       NNW|       WSW|         4.0|        22.0|       44.0|       25.0|     1010.6|     1007.8|4.447461| 4.50993|   17.2|   24.3|       No|          No|\n",
            "|  Albury|   12.9|   25.7|     0.0|  5.4682317|7.6111774|        WSW|         46.0|         W|       WSW|        19.0|        26.0|       38.0|       30.0|     1007.6|     1008.7|4.447461|     2.0|   21.0|   23.2|       No|          No|\n",
            "+--------+-------+-------+--------+-----------+---------+-----------+-------------+----------+----------+------------+------------+-----------+-----------+-----------+-----------+--------+--------+-------+-------+---------+------------+\n",
            "only showing top 3 rows\n",
            "\n"
          ]
        }
      ]
    },
    {
      "cell_type": "markdown",
      "source": [
        "##Location Column"
      ],
      "metadata": {
        "id": "Wff8QSJqj6yu"
      }
    },
    {
      "cell_type": "markdown",
      "source": [
        "Let's see how many location we have in the dataset:"
      ],
      "metadata": {
        "id": "qqtTO4H6kTDj"
      }
    },
    {
      "cell_type": "code",
      "source": [
        "df.select(\"Location\").distinct().count()"
      ],
      "metadata": {
        "id": "qqkYomSxj_KK",
        "colab": {
          "base_uri": "https://localhost:8080/"
        },
        "outputId": "7254bafd-6237-43f5-cad8-4e4504411222"
      },
      "execution_count": null,
      "outputs": [
        {
          "output_type": "execute_result",
          "data": {
            "text/plain": [
              "49"
            ]
          },
          "metadata": {},
          "execution_count": 157
        }
      ]
    },
    {
      "cell_type": "markdown",
      "source": [
        "Again, Location is not an informative feature to predict if it rains tomorrow. Rain situation should be decided based on technical knowledge. I decided to drop 'Location' column as well."
      ],
      "metadata": {
        "id": "vtmJywi6kXpQ"
      }
    },
    {
      "cell_type": "code",
      "source": [
        "df = df.drop('Location')\n",
        "df.show(3)"
      ],
      "metadata": {
        "id": "tiyG4wsNksP_",
        "colab": {
          "base_uri": "https://localhost:8080/"
        },
        "outputId": "80448fb1-590b-4fd1-f97d-76cfce447ada"
      },
      "execution_count": null,
      "outputs": [
        {
          "output_type": "stream",
          "name": "stdout",
          "text": [
            "+-------+-------+--------+-----------+---------+-----------+-------------+----------+----------+------------+------------+-----------+-----------+-----------+-----------+--------+--------+-------+-------+---------+------------+\n",
            "|MinTemp|MaxTemp|Rainfall|Evaporation| Sunshine|WindGustDir|WindGustSpeed|WindDir9am|WindDir3pm|WindSpeed9am|WindSpeed3pm|Humidity9am|Humidity3pm|Pressure9am|Pressure3pm|Cloud9am|Cloud3pm|Temp9am|Temp3pm|RainToday|RainTomorrow|\n",
            "+-------+-------+--------+-----------+---------+-----------+-------------+----------+----------+------------+------------+-----------+-----------+-----------+-----------+--------+--------+-------+-------+---------+------------+\n",
            "|   13.4|   22.9|     0.6|  5.4682317|7.6111774|          W|         44.0|         W|       WNW|        20.0|        24.0|       71.0|       22.0|     1007.7|     1007.1|     8.0| 4.50993|   16.9|   21.8|       No|          No|\n",
            "|    7.4|   25.1|     0.0|  5.4682317|7.6111774|        WNW|         44.0|       NNW|       WSW|         4.0|        22.0|       44.0|       25.0|     1010.6|     1007.8|4.447461| 4.50993|   17.2|   24.3|       No|          No|\n",
            "|   12.9|   25.7|     0.0|  5.4682317|7.6111774|        WSW|         46.0|         W|       WSW|        19.0|        26.0|       38.0|       30.0|     1007.6|     1008.7|4.447461|     2.0|   21.0|   23.2|       No|          No|\n",
            "+-------+-------+--------+-----------+---------+-----------+-------------+----------+----------+------------+------------+-----------+-----------+-----------+-----------+--------+--------+-------+-------+---------+------------+\n",
            "only showing top 3 rows\n",
            "\n"
          ]
        }
      ]
    },
    {
      "cell_type": "markdown",
      "source": [
        "We have analysed the dataset and did some modifications such as removing some unnecessary columns, handling missing values etc. Now, it's time to build ML models."
      ],
      "metadata": {
        "id": "fzu9BPGm38Nb"
      }
    },
    {
      "cell_type": "markdown",
      "source": [
        "##HEATMAP Analysis"
      ],
      "metadata": {
        "id": "G5KGXIokGQdD"
      }
    },
    {
      "cell_type": "markdown",
      "source": [
        "We will see the correlation matrix of the numerical features. If they are very correlated, we can drop these features."
      ],
      "metadata": {
        "id": "67Z9M2IZS6qF"
      }
    },
    {
      "cell_type": "code",
      "source": [
        "from pyspark.mllib.stat import Statistics\n",
        "import pandas as pd\n",
        "#Convert Pyspark dataFrame to pandas dataFrame.\n",
        "#Result can be used w/ seaborn's heatmap.\n",
        "def compute_correlation_matrix(df, method='pearson'):\n",
        "    df_rdd = df.rdd.map(lambda row: row[0:])\n",
        "    corr_mat = Statistics.corr(df_rdd, method=method)\n",
        "    corr_mat_df = pd.DataFrame(corr_mat,\n",
        "                    columns=df.columns,\n",
        "                    index=df.columns)\n",
        "    return corr_mat_df\n",
        "\n",
        "corr=compute_correlation_matrix(df[numerical_cols])"
      ],
      "metadata": {
        "id": "ikZFayKLEFbx"
      },
      "execution_count": null,
      "outputs": []
    },
    {
      "cell_type": "code",
      "source": [
        "from pyspark.ml.stat import Correlation\n",
        "from pyspark.ml.feature import VectorAssembler\n",
        "import matplotlib.pyplot as plt\n",
        "import seaborn as sn\n",
        "\n",
        "fig, ax = plt.subplots(figsize=(15,10))         # Sample figsize in inches\n",
        "sn.heatmap(corr, annot=True, linewidths=.5, ax=ax)"
      ],
      "metadata": {
        "id": "EU8Fau8QBsC9",
        "colab": {
          "base_uri": "https://localhost:8080/",
          "height": 682
        },
        "outputId": "8aedd050-cad7-4cf6-b39a-5f92ac3411c5"
      },
      "execution_count": null,
      "outputs": [
        {
          "output_type": "execute_result",
          "data": {
            "text/plain": [
              "<matplotlib.axes._subplots.AxesSubplot at 0x7f97c197cc50>"
            ]
          },
          "metadata": {},
          "execution_count": 160
        },
        {
          "output_type": "display_data",
          "data": {
            "image/png": "[encoded data removed]",
            "text/plain": [
              "<Figure size 1080x720 with 2 Axes>"
            ]
          },
          "metadata": {
            "needs_background": "light"
          }
        }
      ]
    },
    {
      "cell_type": "markdown",
      "source": [
        "According to heatmap above, we can drop columns if the correlation is 0.85 or greater.\n",
        "\n",
        "- MinTemp and Temp9am has corr 0.90\n",
        "- MaxTemp and Temp9am has corr 0.88\n",
        "- MaxTemp and Temp3pm has corr 0.97\n",
        "- Temp9am and Temp3pm has corr 0.85\n",
        "- Pressure3pm and Pressure9am has corr 0.96\n",
        "\n",
        "So, if we drop Temp9am, Temp3pm, and Pressure3pm the problem would be solved.\n"
      ],
      "metadata": {
        "id": "yjT0aiKaT3Sw"
      }
    },
    {
      "cell_type": "markdown",
      "source": [
        "Let's see the new corr matrix and heatmap:"
      ],
      "metadata": {
        "id": "oVH8_sl-XJ_7"
      }
    },
    {
      "cell_type": "code",
      "source": [
        "drop_this_cols= ['Pressure3pm', 'Temp9am', 'Temp3pm']\n",
        "#Drop this columns:\n",
        "numerical_cols_new = [item for item in numerical_cols if item not in drop_this_cols]\n",
        "\n",
        "#Corr matrix of new numerical columns\n",
        "corr2=compute_correlation_matrix(df[numerical_cols_new])\n",
        "\n",
        "fig, ax = plt.subplots(figsize=(15,10))         # Sample figsize in inches\n",
        "sn.heatmap(corr2, annot=True, linewidths=.5, ax=ax)"
      ],
      "metadata": {
        "id": "uhO1BhDpXjEI",
        "colab": {
          "base_uri": "https://localhost:8080/",
          "height": 682
        },
        "outputId": "817804fb-5e1c-4407-b5fe-c268da3fe78b"
      },
      "execution_count": null,
      "outputs": [
        {
          "output_type": "execute_result",
          "data": {
            "text/plain": [
              "<matplotlib.axes._subplots.AxesSubplot at 0x7f977f0b4790>"
            ]
          },
          "metadata": {},
          "execution_count": 161
        },
        {
          "output_type": "display_data",
          "data": {
            "image/png": "[encoded data removed]",
            "text/plain": [
              "<Figure size 1080x720 with 2 Axes>"
            ]
          },
          "metadata": {
            "needs_background": "light"
          }
        }
      ]
    },
    {
      "cell_type": "markdown",
      "source": [
        "The heatmap seems quite well. There is no correlated features anymore."
      ],
      "metadata": {
        "id": "oSZUAFZ1YyGi"
      }
    },
    {
      "cell_type": "markdown",
      "source": [
        "#B. PIPELINE"
      ],
      "metadata": {
        "id": "hcI1HNhSGmCE"
      }
    },
    {
      "cell_type": "markdown",
      "source": [
        "Let's reload the dataset with a new name to process it again and use it in the pipeline. Our new dataset is called df2. We reload the dataset because we have already changed the values in the previous dataset(df)."
      ],
      "metadata": {
        "id": "eMh8ov7CTave"
      }
    },
    {
      "cell_type": "code",
      "source": [
        "#Our new dataFrame is called df2\n",
        "df2 = spark.read.csv(\"/content/weatherAUS.csv\", header=True, inferSchema=True)"
      ],
      "metadata": {
        "id": "k7eiq6RsGnVu"
      },
      "execution_count": null,
      "outputs": []
    },
    {
      "cell_type": "markdown",
      "source": [
        "##Stage-1\n",
        "Some string-type columns are converted to numerical columns."
      ],
      "metadata": {
        "id": "DL2NQ3JNKzKq"
      }
    },
    {
      "cell_type": "code",
      "source": [
        "from pyspark.sql.types import FloatType\n",
        "from pyspark.sql.functions import col\n",
        "import pyspark.sql.functions as F\n",
        "from pyspark.ml import Pipeline, Transformer\n",
        "from pyspark.ml.feature import Bucketizer\n",
        "from pyspark.sql import DataFrame\n",
        "from typing import Iterable\n",
        "import pandas as pd\n",
        "\n",
        "\n",
        "#Stage-1\n",
        "\n",
        "# Convert string-type columns to numerical type:\n",
        "class Convert_string_columns_to_numeric(Transformer):\n",
        "    def __init__(self):\n",
        "        super(Convert_string_columns_to_numeric, self).__init__()\n",
        "\n",
        "    def _transform(self, df: DataFrame) -> DataFrame:\n",
        "        df= df.withColumn(\"MinTemp\",col(\"MinTemp\").cast(FloatType()))\n",
        "        df= df.withColumn(\"MaxTemp\",col(\"MaxTemp\").cast(FloatType()))\n",
        "        df= df.withColumn(\"Rainfall\",col(\"Rainfall\").cast(FloatType()))\n",
        "        df= df.withColumn(\"Evaporation\",col(\"Evaporation\").cast(FloatType()))\n",
        "        df= df.withColumn(\"Sunshine\",col(\"Sunshine\").cast(FloatType()))\n",
        "        df= df.withColumn(\"WindGustSpeed\",col(\"WindGustSpeed\").cast(FloatType()))\n",
        "        df= df.withColumn(\"WindSpeed9am\",col(\"WindSpeed9am\").cast(FloatType()))\n",
        "        df= df.withColumn(\"WindSpeed3pm\",col(\"WindSpeed3pm\").cast(FloatType()))\n",
        "        df= df.withColumn(\"Humidity9am\",col(\"Humidity9am\").cast(FloatType()))\n",
        "        df= df.withColumn(\"Humidity3pm\",col(\"Humidity3pm\").cast(FloatType()))\n",
        "        df= df.withColumn(\"Pressure9am\",col(\"Pressure9am\").cast(FloatType()))\n",
        "        df= df.withColumn(\"Pressure3pm\",col(\"Pressure3pm\").cast(FloatType()))\n",
        "        df= df.withColumn(\"Cloud9am\",col(\"Cloud9am\").cast(FloatType()))\n",
        "        df= df.withColumn(\"Cloud3pm\",col(\"Cloud3pm\").cast(FloatType()))\n",
        "        df= df.withColumn(\"Temp9am\",col(\"Temp9am\").cast(FloatType()))\n",
        "        df= df.withColumn(\"Temp3pm\",col(\"Temp3pm\").cast(FloatType()))\n",
        "        return df\n",
        "\n",
        "\n",
        "stage_1 = Convert_string_columns_to_numeric()\n"
      ],
      "metadata": {
        "id": "DltohyIoJsxC"
      },
      "execution_count": null,
      "outputs": []
    },
    {
      "cell_type": "markdown",
      "source": [
        "##Stage-2\n",
        "Replace null values to MEAN in numerical columns"
      ],
      "metadata": {
        "id": "JRfbYRTAL1eA"
      }
    },
    {
      "cell_type": "code",
      "source": [
        "import pyspark.sql.functions as F\n",
        "import numpy as np\n",
        "from pyspark.ml.feature import Imputer\n",
        "\n",
        "#Stage-2\n",
        "\n",
        "# In numerical columns, there are null values. We replace these null values to mean of the column.\n",
        "class null_to_mean_in_numeric_cols(Transformer):\n",
        "    def __init__(self):\n",
        "        super(null_to_mean_in_numeric_cols, self).__init__()\n",
        "    def _transform(self, df: DataFrame) -> DataFrame:\n",
        "        #Numeric type columns are:\n",
        "        numeric_cols = [df.dtypes[i][0] for i in range(len(df.dtypes)) if df.dtypes[i][1]=='float']\n",
        "        #Use imputer to replace NULL's to mean values:\n",
        "        imputer = Imputer(\n",
        "            inputCols=numeric_cols,\n",
        "            outputCols=numeric_cols\n",
        "            ).setStrategy(\"mean\")\n",
        "        # Add imputation cols to df\n",
        "        df = imputer.fit(df).transform(df)\n",
        "        return df\n",
        "\n",
        "\n",
        "stage_2 = null_to_mean_in_numeric_cols()\n"
      ],
      "metadata": {
        "id": "b4iUvbaYL6ju"
      },
      "execution_count": null,
      "outputs": []
    },
    {
      "cell_type": "markdown",
      "source": [
        "#Stage-3\n",
        "1. Replace NA to null in string columns\n",
        "2. Drop rows in target column ('RainTomorrow'), if that row has NA value. We do this because we need to know the target value. If we don't know the true label of the data point, we cannot use it in the classification model."
      ],
      "metadata": {
        "id": "1YCJxBR6Ljmm"
      }
    },
    {
      "cell_type": "code",
      "source": [
        "from pyspark.sql.functions import when, lit, col\n",
        "\n",
        "from pyspark.sql.types import FloatType\n",
        "from pyspark.sql.functions import col\n",
        "\n",
        "#Stage-3\n",
        "\n",
        "# Replace NA to null.\n",
        "# Drop NA's in target column.\n",
        "class na_to_null_AND_drop_rows_in_targetColumn(Transformer):\n",
        "    def __init__(self):\n",
        "        super(na_to_null_AND_drop_rows_in_targetColumn, self).__init__()\n",
        "\n",
        "    def _transform(self, df: DataFrame) -> DataFrame:\n",
        "      string_cols = [df.dtypes[i][0] for i in range(len(df.dtypes)) if df.dtypes[i][1]=='string']\n",
        "      def replace(column, value):\n",
        "          return when(column != value, column).otherwise(lit(None))\n",
        "      for colss in string_cols:\n",
        "        df=df.withColumn(colss, replace(col(colss), \"NA\"))\n",
        "      #Drop the null values in target column:\n",
        "      df=df.na.drop(subset=[\"RainTomorrow\"])\n",
        "\n",
        "      return df\n",
        "\n",
        "\n",
        "stage_3 = na_to_null_AND_drop_rows_in_targetColumn()\n",
        "\n"
      ],
      "metadata": {
        "id": "GA8ijzBbLgow"
      },
      "execution_count": null,
      "outputs": []
    },
    {
      "cell_type": "markdown",
      "source": [
        "#Stage-4\n",
        "1. Drop Date and Location columns because they are useless.\n",
        "2. Drop Pressure3pm, Temp9am, Temp3pm columns because they are correleted with other columns more than 0.85.\n",
        "3. Change the null values to 'Unknown'\n",
        "\n",
        "At the end of below cell, I build a small pipeline called 'model_preprocessor' that is used to test our preprocessing stages. We can check whether the implementation of stages is correct and the dataset columns are manipulated accordingly."
      ],
      "metadata": {
        "id": "FxEsXbBfOcnv"
      }
    },
    {
      "cell_type": "code",
      "source": [
        "from pyspark.ml.feature import StringIndexer\n",
        "from pyspark.ml import Pipeline\n",
        "#Stage_4\n",
        "\n",
        "# Drop Date, Location, Pressure3pm, Temp9am, Temp3pm columns.\n",
        "class drop_useless_columns(Transformer):\n",
        "    def __init__(self):\n",
        "        super(drop_useless_columns, self).__init__()\n",
        "\n",
        "    def _transform(self, df: DataFrame) -> DataFrame:\n",
        "      #Drop columns:\n",
        "      df=df.drop(\"Date\")\n",
        "      df=df.drop(\"Location\")\n",
        "      df=df.drop(\"Pressure3pm\")\n",
        "      df=df.drop(\"Temp9am\")\n",
        "      df=df.drop(\"Temp3pm\")\n",
        "\n",
        "      #null to 'Unknown'\n",
        "      df=df.fillna(\"Unknown\")\n",
        "\n",
        "      return df\n",
        "\n",
        "\n",
        "stage_4 = drop_useless_columns()\n",
        "\n",
        "#Below pipeline has the all stages of data preprocessing.\n",
        "#You can see the precessed data and check whether the functions work correctly or not.\n",
        "\n",
        "#Define the mini-pipeline and fit the df2:\n",
        "model_preprocessor = Pipeline(stages=[stage_1, stage_2, stage_3, stage_4]).fit(df2)\n",
        "#Transform the df2:\n",
        "processed_data = model_preprocessor.transform(df2)\n",
        "print(processed_data.count())\n",
        "print()\n",
        "print(processed_data.columns)\n",
        "print()\n",
        "processed_data.show(15)"
      ],
      "metadata": {
        "id": "OVUksh49Ob3F",
        "colab": {
          "base_uri": "https://localhost:8080/"
        },
        "outputId": "cee84544-f9ac-4502-b700-15036411fccf"
      },
      "execution_count": null,
      "outputs": [
        {
          "output_type": "stream",
          "name": "stdout",
          "text": [
            "142193\n",
            "\n",
            "['MinTemp', 'MaxTemp', 'Rainfall', 'Evaporation', 'Sunshine', 'WindGustDir', 'WindGustSpeed', 'WindDir9am', 'WindDir3pm', 'WindSpeed9am', 'WindSpeed3pm', 'Humidity9am', 'Humidity3pm', 'Pressure9am', 'Cloud9am', 'Cloud3pm', 'RainToday', 'RainTomorrow']\n",
            "\n",
            "+-------+-------+--------+-----------+---------+-----------+-------------+----------+----------+------------+------------+-----------+-----------+-----------+--------+--------+---------+------------+\n",
            "|MinTemp|MaxTemp|Rainfall|Evaporation| Sunshine|WindGustDir|WindGustSpeed|WindDir9am|WindDir3pm|WindSpeed9am|WindSpeed3pm|Humidity9am|Humidity3pm|Pressure9am|Cloud9am|Cloud3pm|RainToday|RainTomorrow|\n",
            "+-------+-------+--------+-----------+---------+-----------+-------------+----------+----------+------------+------------+-----------+-----------+-----------+--------+--------+---------+------------+\n",
            "|   13.4|   22.9|     0.6|  5.4682317|7.6111774|          W|         44.0|         W|       WNW|        20.0|        24.0|       71.0|       22.0|     1007.7|     8.0| 4.50993|       No|          No|\n",
            "|    7.4|   25.1|     0.0|  5.4682317|7.6111774|        WNW|         44.0|       NNW|       WSW|         4.0|        22.0|       44.0|       25.0|     1010.6|4.447461| 4.50993|       No|          No|\n",
            "|   12.9|   25.7|     0.0|  5.4682317|7.6111774|        WSW|         46.0|         W|       WSW|        19.0|        26.0|       38.0|       30.0|     1007.6|4.447461|     2.0|       No|          No|\n",
            "|    9.2|   28.0|     0.0|  5.4682317|7.6111774|         NE|         24.0|        SE|         E|        11.0|         9.0|       45.0|       16.0|     1017.6|4.447461| 4.50993|       No|          No|\n",
            "|   17.5|   32.3|     1.0|  5.4682317|7.6111774|          W|         41.0|       ENE|        NW|         7.0|        20.0|       82.0|       33.0|     1010.8|     7.0|     8.0|       No|          No|\n",
            "|   14.6|   29.7|     0.2|  5.4682317|7.6111774|        WNW|         56.0|         W|         W|        19.0|        24.0|       55.0|       23.0|     1009.2|4.447461| 4.50993|       No|          No|\n",
            "|   14.3|   25.0|     0.0|  5.4682317|7.6111774|          W|         50.0|        SW|         W|        20.0|        24.0|       49.0|       19.0|     1009.6|     1.0| 4.50993|       No|          No|\n",
            "|    7.7|   26.7|     0.0|  5.4682317|7.6111774|          W|         35.0|       SSE|         W|         6.0|        17.0|       48.0|       19.0|     1013.4|4.447461| 4.50993|       No|          No|\n",
            "|    9.7|   31.9|     0.0|  5.4682317|7.6111774|        NNW|         80.0|        SE|        NW|         7.0|        28.0|       42.0|        9.0|     1008.9|4.447461| 4.50993|       No|         Yes|\n",
            "|   13.1|   30.1|     1.4|  5.4682317|7.6111774|          W|         28.0|         S|       SSE|        15.0|        11.0|       58.0|       27.0|     1007.0|4.447461| 4.50993|      Yes|          No|\n",
            "|   13.4|   30.4|     0.0|  5.4682317|7.6111774|          N|         30.0|       SSE|       ESE|        17.0|         6.0|       48.0|       22.0|     1011.8|4.447461| 4.50993|       No|         Yes|\n",
            "|   15.9|   21.7|     2.2|  5.4682317|7.6111774|        NNE|         31.0|        NE|       ENE|        15.0|        13.0|       89.0|       91.0|     1010.5|     8.0|     8.0|      Yes|         Yes|\n",
            "|   15.9|   18.6|    15.6|  5.4682317|7.6111774|          W|         61.0|       NNW|       NNW|        28.0|        28.0|       76.0|       93.0|      994.3|     8.0|     8.0|      Yes|         Yes|\n",
            "|   12.6|   21.0|     3.6|  5.4682317|7.6111774|         SW|         44.0|         W|       SSW|        24.0|        20.0|       65.0|       43.0|     1001.2|4.447461|     7.0|      Yes|          No|\n",
            "|    9.8|   27.7|2.360918|  5.4682317|7.6111774|        WNW|         50.0|   Unknown|       WNW|   14.043426|        22.0|       50.0|       28.0|     1013.4|     0.0| 4.50993|  Unknown|          No|\n",
            "+-------+-------+--------+-----------+---------+-----------+-------------+----------+----------+------------+------------+-----------+-----------+-----------+--------+--------+---------+------------+\n",
            "only showing top 15 rows\n",
            "\n"
          ]
        }
      ]
    },
    {
      "cell_type": "markdown",
      "source": [
        "The mini-pipeline works well. The columns and values are changed as expected."
      ],
      "metadata": {
        "id": "9hlzWWQr4ozu"
      }
    },
    {
      "cell_type": "markdown",
      "source": [
        "Till here, we applied the Data Exploration functions in pipeline. We can build our ML models now."
      ],
      "metadata": {
        "id": "nnG5EGGKb80v"
      }
    },
    {
      "cell_type": "markdown",
      "source": [
        "##Machine Learning Part"
      ],
      "metadata": {
        "id": "itGayySe2qvz"
      }
    },
    {
      "cell_type": "markdown",
      "source": [
        "Before going deep into ML models, let's load the dataset again becasue we have changed the columns of the previous dataset(df and df2) in 'Data Exploration' and 'Pipeline' parts. Our new dataset's name is df3. df3 is the raw data and not manipulated yet. We will use df3 in only ML models below."
      ],
      "metadata": {
        "id": "v6YUGf5Y2rhE"
      }
    },
    {
      "cell_type": "code",
      "source": [
        "#Our new dataFrame is called df3\n",
        "df3 = spark.read.csv(\"/content/weatherAUS.csv\", header=True, inferSchema=True)"
      ],
      "metadata": {
        "id": "1kHDiDZNRlMn"
      },
      "execution_count": null,
      "outputs": []
    },
    {
      "cell_type": "markdown",
      "source": [
        "Make the train & test split:"
      ],
      "metadata": {
        "id": "nHxC3Zoi27GQ"
      }
    },
    {
      "cell_type": "code",
      "source": [
        "train, test = df3.randomSplit([0.7, 0.3], seed = 2018)\n",
        "print(\"Training Dataset Count: \" + str(train.count()))\n",
        "print(\"Test Dataset Count: \" + str(test.count()))"
      ],
      "metadata": {
        "id": "uc3eBUD0jHFv",
        "colab": {
          "base_uri": "https://localhost:8080/"
        },
        "outputId": "fa0d75d6-fd7d-4a82-ae49-4b05d05377ad"
      },
      "execution_count": null,
      "outputs": [
        {
          "output_type": "stream",
          "name": "stdout",
          "text": [
            "Training Dataset Count: 101853\n",
            "Test Dataset Count: 43607\n"
          ]
        }
      ]
    },
    {
      "cell_type": "markdown",
      "source": [
        "Now, we can convert string-type columns to indexes with StringIndexer function. Then we will use OneHotEncoder to convert numerical variables to one hot vectors. At the end, we use VectorAssembler to convert all columns."
      ],
      "metadata": {
        "id": "GTnv5h3M3CzF"
      }
    },
    {
      "cell_type": "code",
      "source": [
        "from pyspark.ml.feature import StringIndexer, OneHotEncoder\n",
        "from pyspark.ml.classification import LogisticRegression\n",
        "\n",
        "# define stage 5.1, 5.2, 5.3, 5.4, 5.5\n",
        "#We will encode the string-type columns separately:\n",
        "stage_51 = StringIndexer(inputCol= 'WindGustDir', outputCol= 'WindGustDir_indexed')\n",
        "stage_52 = StringIndexer(inputCol= 'WindDir9am', outputCol= 'WindDir9am_indexed')\n",
        "stage_53 = StringIndexer(inputCol= 'WindDir3pm', outputCol= 'WindDir3pm_indexed')\n",
        "stage_54 = StringIndexer(inputCol= 'RainToday', outputCol= 'RainToday_indexed')\n",
        "#We should also encode the target colum 'RainTomorrow' to use it in ML prediction:\n",
        "stage_55 = StringIndexer(inputCol= 'RainTomorrow', outputCol= 'RainTomorrow_indexed')\n",
        "\n",
        "#Then, encode all columns to one hot:\n",
        "stage_6 = OneHotEncoder(inputCols=[stage_51.getOutputCol(), stage_52.getOutputCol(), stage_53.getOutputCol(),stage_54.getOutputCol()],\n",
        "                        outputCols= ['stage_51_encoded', 'stage_52_encoded','stage_53_encoded', 'stage_54_encoded'])\n",
        "\n",
        "#VectorAssembler put together every column to one feature column:\n",
        "stage_7 = VectorAssembler(inputCols=['stage_51_encoded', 'stage_52_encoded','stage_53_encoded','stage_54_encoded',\n",
        "                                     'MinTemp','MaxTemp','Rainfall','Evaporation','Sunshine','WindGustSpeed','WindSpeed9am',\n",
        "                                      'WindSpeed3pm','Humidity9am','Humidity3pm','Pressure9am','Cloud9am','Cloud3pm'],\n",
        "                          outputCol='features')\n",
        "\n"
      ],
      "metadata": {
        "id": "0wUv4CrW2tAC"
      },
      "execution_count": null,
      "outputs": []
    },
    {
      "cell_type": "markdown",
      "source": [
        "#1. Logistic Regression"
      ],
      "metadata": {
        "id": "TsOgSXkA7yQr"
      }
    },
    {
      "cell_type": "code",
      "source": [
        "#Build logistic regression model.\n",
        "#The target column becomes 'RainTomorrow_indexed' since we encoded it to numeric type (to 0s and 1s).\n",
        "lr = LogisticRegression(featuresCol = 'features',\n",
        "                        labelCol = 'RainTomorrow_indexed',\n",
        "                        maxIter=10)\n",
        "\n",
        "#Setup the pipeline:\n",
        "LogisticReg_pipeline = Pipeline(stages= [stage_1, stage_2, stage_3, stage_4, #Data manipualtion stages\n",
        "                                         stage_51, stage_52, stage_53, stage_54, stage_55, #StringIndexer stages\n",
        "                                         stage_6,  #OneHotEncoder\n",
        "                                         stage_7, #VectorAssembler\n",
        "                                         lr\n",
        "                                         ])"
      ],
      "metadata": {
        "id": "ofnZi03N7xvp"
      },
      "execution_count": null,
      "outputs": []
    },
    {
      "cell_type": "markdown",
      "source": [
        "Build Cross-validation model and fit the data:"
      ],
      "metadata": {
        "id": "hxFq-g2U7A5w"
      }
    },
    {
      "cell_type": "code",
      "source": [
        "from pyspark.ml.classification import LogisticRegression\n",
        "from pyspark.ml.evaluation import BinaryClassificationEvaluator\n",
        "from pyspark.ml.feature import HashingTF, Tokenizer\n",
        "from pyspark.ml.tuning import CrossValidator, ParamGridBuilder\n",
        "\n",
        "#Parameters that investigate:\n",
        "param_grid_lr = ParamGridBuilder().addGrid(\n",
        "    lr.regParam, [0.1, 0.01]\n",
        ").build()\n",
        "\n",
        "#Define BinaryClassificationEvaluator for ROC metric:\n",
        "evaluator_lr = BinaryClassificationEvaluator(labelCol=\"RainTomorrow_indexed\",\n",
        "                                          rawPredictionCol=\"prediction\",\n",
        "                                          metricName='areaUnderROC')\n",
        "\n",
        "# A CrossValidator requires an Estimator, a set of Estimator ParamMaps, and an Evaluator.\n",
        "# Number of folds is 4.\n",
        "cv_lr = CrossValidator(estimator=LogisticReg_pipeline,\n",
        "                    estimatorParamMaps=param_grid_lr,\n",
        "                    evaluator=evaluator_lr,\n",
        "                    numFolds=4)\n",
        "\n",
        "# Run cross-validation, and choose the best set of parameters.\n",
        "cv_model_lr = cv_lr.fit(train)\n",
        "\n",
        "\n"
      ],
      "metadata": {
        "id": "y43obazpomgh"
      },
      "execution_count": null,
      "outputs": []
    },
    {
      "cell_type": "markdown",
      "source": [
        "Make predcition on test set:"
      ],
      "metadata": {
        "id": "vqn8O_StBrrD"
      }
    },
    {
      "cell_type": "code",
      "source": [
        "predictions_lr = cv_model_lr.transform(test).select(\"RainTomorrow_indexed\", \"prediction\")\n"
      ],
      "metadata": {
        "id": "IykqHF8pBq3x"
      },
      "execution_count": null,
      "outputs": []
    },
    {
      "cell_type": "markdown",
      "source": [
        "###Evaluation metrics:"
      ],
      "metadata": {
        "id": "lh005zDZBfjA"
      }
    },
    {
      "cell_type": "markdown",
      "source": [
        "1. Area Under ROC:"
      ],
      "metadata": {
        "id": "Lj7-hOVsBjnf"
      }
    },
    {
      "cell_type": "code",
      "source": [
        "auc_lr = evaluator_lr.evaluate(predictions_lr)\n",
        "print(\"Test Area Under ROC = \",auc_lr)"
      ],
      "metadata": {
        "colab": {
          "base_uri": "https://localhost:8080/"
        },
        "id": "NHdSvh1lB8Me",
        "outputId": "3d58e188-2f51-4b5f-874a-cb675cb231b6"
      },
      "execution_count": null,
      "outputs": [
        {
          "output_type": "stream",
          "name": "stdout",
          "text": [
            "Test Area Under ROC =  0.7054391004649162\n"
          ]
        }
      ]
    },
    {
      "cell_type": "markdown",
      "source": [
        "2. Accuracy, F1 Score, Weighted Precision, Weighted Recall"
      ],
      "metadata": {
        "id": "H56nesVCCEpl"
      }
    },
    {
      "cell_type": "code",
      "source": [
        "from pyspark.ml.evaluation import MulticlassClassificationEvaluator\n",
        "\n",
        "#Define BinaryClassificationEvaluator for Accuracy, F1 Score, Weighted Precision, Weighted Recall metrics:\n",
        "evaluator_m = MulticlassClassificationEvaluator(\n",
        "    labelCol=\"RainTomorrow_indexed\", predictionCol=\"prediction\", metricName=\"accuracy\")\n",
        "\n",
        "\n",
        "\n",
        "acc = evaluator_m.evaluate(predictions_lr, {evaluator_m.metricName: \"accuracy\"})\n",
        "print(\"Accuracy on test set = \", acc)\n",
        "\n",
        "f1 = evaluator_m.evaluate(predictions_lr, {evaluator_m.metricName: \"f1\"})\n",
        "print(\"F1 Score on test set = \", f1)\n",
        "\n",
        "weightedPrecision = evaluator_m.evaluate(predictions_lr, {evaluator_m.metricName: \"weightedPrecision\"})\n",
        "print(\"WeightedPrecision on test set = \", weightedPrecision)\n",
        "\n",
        "weightedRecall = evaluator_m.evaluate(predictions_lr, {evaluator_m.metricName: \"weightedRecall\"})\n",
        "print(\"WeightedRecall on test set = \", weightedRecall)\n",
        "\n",
        "\n"
      ],
      "metadata": {
        "colab": {
          "base_uri": "https://localhost:8080/"
        },
        "id": "ryqC_KV19ws1",
        "outputId": "d35c72a2-7bd0-4927-fa79-99c01eadb1dd"
      },
      "execution_count": null,
      "outputs": [
        {
          "output_type": "stream",
          "name": "stdout",
          "text": [
            "Accuracy on test set =  0.8369175206960437\n",
            "F1 Score on test set =  0.8233247777383061\n",
            "WeightedPrecision on test set =  0.8258537985686408\n",
            "WeightedRecall on test set =  0.8369175206960437\n"
          ]
        }
      ]
    },
    {
      "cell_type": "markdown",
      "source": [
        "We got 0.836 accuracy and 0.823 F1 score. Not bad!"
      ],
      "metadata": {
        "id": "WDahrDcjENp1"
      }
    },
    {
      "cell_type": "markdown",
      "source": [
        "#2. Random Forest Classifier"
      ],
      "metadata": {
        "id": "B1YYbZV_75z5"
      }
    },
    {
      "cell_type": "markdown",
      "source": [
        "Build Random Forest pipeline:\n"
      ],
      "metadata": {
        "id": "07PO7n4hFXkd"
      }
    },
    {
      "cell_type": "code",
      "source": [
        "from pyspark.ml.classification import RandomForestClassifier\n",
        "\n",
        "#Build a Random Forest model.\n",
        "rf = RandomForestClassifier(featuresCol = 'features',\n",
        "                        labelCol = 'RainTomorrow_indexed')\n",
        "\n",
        "#Setup the pipeline:\n",
        "RandomForest_pipeline = Pipeline(stages= [stage_1, stage_2, stage_3, stage_4, #Data manipualtion stages\n",
        "                                         stage_51, stage_52, stage_53, stage_54, stage_55, #StringIndexer stages\n",
        "                                         stage_6,  #OneHotEncoder\n",
        "                                         stage_7, #VectorAssembler\n",
        "                                         rf\n",
        "                                         ])"
      ],
      "metadata": {
        "id": "KrSqUOm68Gwu"
      },
      "execution_count": null,
      "outputs": []
    },
    {
      "cell_type": "markdown",
      "source": [
        "Build cross-validation model and test parameters:"
      ],
      "metadata": {
        "id": "NJkn8GmHFa-w"
      }
    },
    {
      "cell_type": "code",
      "source": [
        "from pyspark.ml.evaluation import BinaryClassificationEvaluator\n",
        "from pyspark.ml.feature import HashingTF, Tokenizer\n",
        "from pyspark.ml.tuning import CrossValidator, ParamGridBuilder\n",
        "\n",
        "#Parameters that investigate:\n",
        "param_grid_rf = ParamGridBuilder().addGrid(\n",
        "    rf.numTrees, [20, 50]\n",
        "\n",
        ").addGrid(\n",
        "    rf.maxDepth, [5,10]\n",
        ").build()\n",
        "\n",
        "#Define the evaluator for ROC:\n",
        "evaluator_rf = BinaryClassificationEvaluator(labelCol=\"RainTomorrow_indexed\",\n",
        "                                          rawPredictionCol=\"prediction\",\n",
        "                                          metricName='areaUnderROC')\n",
        "\n",
        "\n",
        "# A CrossValidator requires an Estimator, a set of Estimator ParamMaps, and an Evaluator.\n",
        "# Number of folds is 4.\n",
        "cv_rf = CrossValidator(estimator=RandomForest_pipeline,\n",
        "                    estimatorParamMaps=param_grid_rf,\n",
        "                    evaluator=evaluator_rf,\n",
        "                    numFolds=4)\n",
        "\n",
        "# Run cross-validation, and choose the best set of parameters.\n",
        "cv_model_rf = cv_rf.fit(train)\n",
        "\n",
        "\n"
      ],
      "metadata": {
        "id": "A9nbx_PF9On0"
      },
      "execution_count": null,
      "outputs": []
    },
    {
      "cell_type": "markdown",
      "source": [
        "Make prediciton on test set:"
      ],
      "metadata": {
        "id": "fJGcjfuKFkVy"
      }
    },
    {
      "cell_type": "code",
      "source": [
        "predictions_rf = cv_model_rf.transform(test).select(\"RainTomorrow_indexed\", \"prediction\")\n"
      ],
      "metadata": {
        "id": "HpeW-PGbFjx0"
      },
      "execution_count": null,
      "outputs": []
    },
    {
      "cell_type": "markdown",
      "source": [
        "###Evaluation metrics:"
      ],
      "metadata": {
        "id": "i7hP-axnFraW"
      }
    },
    {
      "cell_type": "markdown",
      "source": [
        "1. ROC"
      ],
      "metadata": {
        "id": "-qvx3rCnFsO1"
      }
    },
    {
      "cell_type": "code",
      "source": [
        "auc_rf = evaluator_rf.evaluate(predictions_rf)\n",
        "print(\"Test Area Under ROC = \",auc_rf)"
      ],
      "metadata": {
        "colab": {
          "base_uri": "https://localhost:8080/"
        },
        "id": "VYdcNlYRFvuO",
        "outputId": "e4e2f1eb-4d59-4ebd-fb7d-04d6c43f2826"
      },
      "execution_count": null,
      "outputs": [
        {
          "output_type": "stream",
          "name": "stdout",
          "text": [
            "Test Area Under ROC =  0.6826417427330921\n"
          ]
        }
      ]
    },
    {
      "cell_type": "markdown",
      "source": [
        "2. Accuracy, F1 Score, Weighted Precision, Weighted Recall"
      ],
      "metadata": {
        "id": "3FJ8msYDF390"
      }
    },
    {
      "cell_type": "code",
      "source": [
        "from pyspark.ml.evaluation import MulticlassClassificationEvaluator\n",
        "\n",
        "#Define BinaryClassificationEvaluator for Accuracy, F1 Score, Weighted Precision, Weighted Recall metrics:\n",
        "evaluator_m = MulticlassClassificationEvaluator(\n",
        "    labelCol=\"RainTomorrow_indexed\", predictionCol=\"prediction\", metricName=\"accuracy\")\n",
        "\n",
        "\n",
        "\n",
        "acc = evaluator_m.evaluate(predictions_rf, {evaluator_m.metricName: \"accuracy\"})\n",
        "print(\"Accuracy on test set = \", acc)\n",
        "\n",
        "f1 = evaluator_m.evaluate(predictions_rf, {evaluator_m.metricName: \"f1\"})\n",
        "print(\"F1 Score on test set = \", f1)\n",
        "\n",
        "weightedPrecision = evaluator_m.evaluate(predictions_rf, {evaluator_m.metricName: \"weightedPrecision\"})\n",
        "print(\"WeightedPrecision on test set = \", weightedPrecision)\n",
        "\n",
        "weightedRecall = evaluator_m.evaluate(predictions_rf, {evaluator_m.metricName: \"weightedRecall\"})\n",
        "print(\"WeightedRecall on test set = \", weightedRecall)\n",
        "\n",
        "\n"
      ],
      "metadata": {
        "colab": {
          "base_uri": "https://localhost:8080/"
        },
        "id": "rK6Ouh2YF6pM",
        "outputId": "2e8e7697-dd81-4fcf-a28c-a59d0362d9d8"
      },
      "execution_count": null,
      "outputs": [
        {
          "output_type": "stream",
          "name": "stdout",
          "text": [
            "Accuracy on test set =  0.83736310124059\n",
            "F1 Score on test set =  0.8165169570183471\n",
            "WeightedPrecision on test set =  0.8301040054276756\n",
            "WeightedRecall on test set =  0.83736310124059\n"
          ]
        }
      ]
    },
    {
      "cell_type": "markdown",
      "source": [
        "Table below summaries the results of both classifiers."
      ],
      "metadata": {
        "id": "8QxCAr2zG5lz"
      }
    },
    {
      "cell_type": "markdown",
      "source": [
        "Metrics             | Random Forest | Logistic Regression\n",
        "-------------------|------------------  | ------------------\n",
        "ROC       | 0.682       | **0.705**\n",
        "Accuracy       | **0.837**       | 0.836\n",
        "F1 Score       | 0.816       | **0.823**\n",
        "WeightedPrecision      | **0.83**       | 0.825\n",
        "WeightedRecall      | 0.837       | 0.836"
      ],
      "metadata": {
        "id": "DoN3OFZYPVGD"
      }
    },
    {
      "cell_type": "markdown",
      "source": [
        "The logistic regression and random forest classification results are very close to each other."
      ],
      "metadata": {
        "id": "o3TrDXWkRqLK"
      }
    }
  ]
}